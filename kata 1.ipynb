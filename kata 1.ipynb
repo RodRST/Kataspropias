{
 "cells": [
  {
   "cell_type": "markdown",
   "metadata": {},
   "source": [
    "Modulo 1"
   ]
  },
  {
   "cell_type": "markdown",
   "metadata": {},
   "source": [
    "Programa para la fecha de hoy"
   ]
  },
  {
   "cell_type": "code",
   "execution_count": 14,
   "metadata": {},
   "outputs": [
    {
     "name": "stdout",
     "output_type": "stream",
     "text": [
      "La fecha de hoy es: 2022-02-20\n"
     ]
    }
   ],
   "source": [
    "import datetime\n",
    "from datetime import date\n",
    "\n",
    "print(\"La fecha de hoy es:\", date.today())"
   ]
  },
  {
   "cell_type": "markdown",
   "metadata": {},
   "source": [
    "Convertidor de unidades"
   ]
  },
  {
   "cell_type": "code",
   "execution_count": 28,
   "metadata": {},
   "outputs": [
    {
     "name": "stdout",
     "output_type": "stream",
     "text": [
      "11.0 parsec, son 35.87716 años luz\n"
     ]
    }
   ],
   "source": [
    "\n",
    "parsec = float(input(\"Introduce el numero de parsec\"))\n",
    "#Utilice el tipo float para poder introducir datos con decimales y el comando input para que un cuadro de texto nos pida escribir el numero de parsec\n",
    "lightyears = 3.26156 * parsec\n",
    "format(lightyears,'.4f')\n",
    "print(str(parsec) + \" parsec, son \" + str(\"{:.5f}\".format(lightyears)) + \" años luz\")"
   ]
  }
 ],
 "metadata": {
  "interpreter": {
   "hash": "c43cc35bf10d47ee272d24c9e8f3a3c68ece12bba4bc202b3d531e99134b684d"
  },
  "kernelspec": {
   "display_name": "Python 3.10.2 64-bit",
   "language": "python",
   "name": "python3"
  },
  "language_info": {
   "codemirror_mode": {
    "name": "ipython",
    "version": 3
   },
   "file_extension": ".py",
   "mimetype": "text/x-python",
   "name": "python",
   "nbconvert_exporter": "python",
   "pygments_lexer": "ipython3",
   "version": "3.10.2"
  },
  "orig_nbformat": 4
 },
 "nbformat": 4,
 "nbformat_minor": 2
}
