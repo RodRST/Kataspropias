{
 "cells": [
  {
   "cell_type": "markdown",
   "metadata": {},
   "source": [
    "Ejercicios - Escribir declaraciones if, else, y elif"
   ]
  },
  {
   "cell_type": "code",
   "execution_count": 4,
   "metadata": {},
   "outputs": [
    {
     "name": "stdout",
     "output_type": "stream",
     "text": [
      "¡Alerta! ¡Asteroide a velocidades peligrosas esta cerca!\n"
     ]
    }
   ],
   "source": [
    "# se usaran los comandos if y else en orden para la ejecucion del programa\n",
    "asteroide = 49\n",
    "#Se define la velocidad del asteroide\n",
    "if asteroide > 25:\n",
    "#Se define la instrucción if para definir que si la velocidad es mayor a 25 lanze una alerta de peligro\n",
    "    print('¡Alerta! ¡Asteroide a velocidades peligrosas esta cerca!')\n",
    "else:\n",
    "#Con else definimos la instruccion de que sucede si la velocidad del asteroide no es mayor a 25\n",
    "    print('No hay peligro')"
   ]
  },
  {
   "cell_type": "code",
   "execution_count": null,
   "metadata": {},
   "outputs": [],
   "source": [
    "#Aqui se utilizará tambien la función elif\n",
    "asteroide = 19\n",
    "if asteroide > 20:\n",
    "    print('Hay una luz blanca en el cielo')\n",
    "elif asteroide == 20:\n",
    "    #La función elif bloquea que se active la funcion else hasta que se compruebe que el resultado va a ser en booleano \"falso\" lo que daria en resultado la funcion else\n",
    "    print('Hay una luz blanca en el cielo')\n",
    "else:\n",
    "    print('No voices in sky') #referenciando a motorhead"
   ]
  },
  {
   "cell_type": "code",
   "execution_count": 1,
   "metadata": {},
   "outputs": [
    {
     "name": "stdout",
     "output_type": "stream",
     "text": [
      "¡Alerta, Un asteroide muy peligroso viene hacia la Tierra!\n"
     ]
    }
   ],
   "source": [
    "velocidad_asteroide = float(input(\"introduce la velocidad del asteroide\"))\n",
    "tamano_asteroide = float(input(\"introduce el tamaño del asteoride\"))\n",
    "if velocidad_asteroide > 25 and tamano_asteroide > 25:\n",
    "    print('¡Alerta, Un asteroide muy peligroso viene hacia la Tierra!')\n",
    "elif velocidad_asteroide >= 20:\n",
    "    print(' ¡Hay una luz blanca en el cielo!')\n",
    "elif tamano_asteroide < 25:\n",
    "    print('No hay voces en el cielo :)')\n",
    "else:\n",
    "    print('Nada que ver aquí :)')"
   ]
  }
 ],
 "metadata": {
  "interpreter": {
   "hash": "3c33a349d2c34e703445e735e5c5224d1047b3ed0aa9b6b07b67b0f424811694"
  },
  "kernelspec": {
   "display_name": "Python 3.10.2 64-bit (windows store)",
   "language": "python",
   "name": "python3"
  },
  "language_info": {
   "codemirror_mode": {
    "name": "ipython",
    "version": 3
   },
   "file_extension": ".py",
   "mimetype": "text/x-python",
   "name": "python",
   "nbconvert_exporter": "python",
   "pygments_lexer": "ipython3",
   "version": "3.10.2"
  },
  "orig_nbformat": 4
 },
 "nbformat": 4,
 "nbformat_minor": 2
}
