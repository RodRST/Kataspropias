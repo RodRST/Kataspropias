{
 "cells": [
  {
   "cell_type": "markdown",
   "metadata": {},
   "source": [
    "Creación de un bucle \"while\""
   ]
  },
  {
   "cell_type": "code",
   "execution_count": 8,
   "metadata": {},
   "outputs": [],
   "source": [
    "Planeta_nuevo = ''\n",
    "Planetas = []\n",
    "#Se declara un bucle while para agregar los planetas\n",
    "while Planeta_nuevo.lower() !=\"done\":\n",
    "            if Planeta_nuevo:\n",
    "                Planetas.append(Planeta_nuevo)\n",
    "            Planeta_nuevo = input(\"Introduce el nombre del planeta\")\n",
    "            \n"
   ]
  },
  {
   "cell_type": "markdown",
   "metadata": {},
   "source": [
    "Creacion de ciclo For"
   ]
  },
  {
   "cell_type": "code",
   "execution_count": 9,
   "metadata": {},
   "outputs": [
    {
     "name": "stdout",
     "output_type": "stream",
     "text": [
      "Mercurio\n",
      "Venus\n",
      "Tierra\n"
     ]
    }
   ],
   "source": [
    "            #Habia hecho este pedazo de codigo arriba pero me daban repetidos los planetas asi que lo copie y lo pegue en el bloque de codigo de esta sección y el programa funciono bien\n",
    "            for Planeta in Planetas:\n",
    "                print(Planeta)"
   ]
  }
 ],
 "metadata": {
  "interpreter": {
   "hash": "3c33a349d2c34e703445e735e5c5224d1047b3ed0aa9b6b07b67b0f424811694"
  },
  "kernelspec": {
   "display_name": "Python 3.10.2 64-bit (windows store)",
   "language": "python",
   "name": "python3"
  },
  "language_info": {
   "codemirror_mode": {
    "name": "ipython",
    "version": 3
   },
   "file_extension": ".py",
   "mimetype": "text/x-python",
   "name": "python",
   "nbconvert_exporter": "python",
   "pygments_lexer": "ipython3",
   "version": "3.10.2"
  },
  "orig_nbformat": 4
 },
 "nbformat": 4,
 "nbformat_minor": 2
}
