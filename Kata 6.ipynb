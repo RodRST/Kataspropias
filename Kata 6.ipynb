{
 "cells": [
  {
   "cell_type": "markdown",
   "metadata": {},
   "source": [
    " Crear y usar listas de Python"
   ]
  },
  {
   "cell_type": "code",
   "execution_count": 4,
   "metadata": {},
   "outputs": [
    {
     "name": "stdout",
     "output_type": "stream",
     "text": [
      "Hay en total 8 planetas\n",
      "El ultimo planeta es Pluton\n"
     ]
    }
   ],
   "source": [
    "#Se puede crear una lista como si declararas una variable pero utilizas['', '',] entre las comillas el nombre del elemnto y se separa con coma\n",
    "Planetas = ['Mercurio', 'Venus', 'Tierra', 'Marte', 'Jupiter', 'Saturno', 'Urano', 'Neptuno']\n",
    "print(\"Hay en total\", len(Planetas), \"planetas\")\n",
    "\n",
    "#.append se usa para agregar un nuevo elemento a la lista \n",
    "\n",
    "Planetas.append(\"Pluton\")\n",
    "print(\"El ultimo planeta es\",Planetas[-1])"
   ]
  },
  {
   "cell_type": "markdown",
   "metadata": {},
   "source": [
    "Trabajando con datos de una lista"
   ]
  },
  {
   "cell_type": "code",
   "execution_count": 7,
   "metadata": {},
   "outputs": [
    {
     "name": "stdout",
     "output_type": "stream",
     "text": [
      "Aqui se muestran los planetas mas cercanos al sol qué Tierra\n",
      "['Mercurio', 'Venus']\n",
      "Aqui se muestran los planetas más lejanos que Tierra\n",
      "['Marte', 'Jupiter', 'Saturno', 'Urano', 'Neptuno']\n"
     ]
    }
   ],
   "source": [
    "Planetas = ['Mercurio', 'Venus', 'Tierra', 'Marte', 'Jupiter', 'Saturno', 'Urano', 'Neptuno']\n",
    "nombre_planeta = input(\"Introduce el nombre de un planeta\")\n",
    "Planetas_indice = Planetas.index(nombre_planeta)\n",
    "print(\"Aqui se muestran los planetas mas cercanos al sol qué\", nombre_planeta)\n",
    "print(Planetas[0:Planetas_indice])\n",
    "print(\"Aqui se muestran los planetas más lejanos que\", nombre_planeta)\n",
    "print(Planetas[Planetas_indice +1:])"
   ]
  }
 ],
 "metadata": {
  "interpreter": {
   "hash": "3c33a349d2c34e703445e735e5c5224d1047b3ed0aa9b6b07b67b0f424811694"
  },
  "kernelspec": {
   "display_name": "Python 3.10.2 64-bit (windows store)",
   "language": "python",
   "name": "python3"
  },
  "language_info": {
   "codemirror_mode": {
    "name": "ipython",
    "version": 3
   },
   "file_extension": ".py",
   "mimetype": "text/x-python",
   "name": "python",
   "nbconvert_exporter": "python",
   "pygments_lexer": "ipython3",
   "version": "3.10.2"
  },
  "orig_nbformat": 4
 },
 "nbformat": 4,
 "nbformat_minor": 2
}
