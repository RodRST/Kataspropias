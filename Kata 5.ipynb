{
 "cells": [
  {
   "cell_type": "markdown",
   "metadata": {},
   "source": [
    "Utilizar operadores aritméticos"
   ]
  },
  {
   "cell_type": "code",
   "execution_count": 5,
   "metadata": {},
   "outputs": [
    {
     "name": "stdout",
     "output_type": "stream",
     "text": [
      "La distancia entre Jupiter y la tierra es de 628949330 kilometros\n",
      "la distancia entre Jupiter y la tierra es de 390577533.93 millas\n"
     ]
    }
   ],
   "source": [
    "#Se crean las variables con los datos a almacenar, ambos datos estan en km\n",
    "Tierra = 149597870 \n",
    "Jupiter = 778547200\n",
    "#Creamos las variables para calcular la distancia entre la Tierra y Jupiter\n",
    "distancia_km = Jupiter - Tierra\n",
    "print(\"La distancia entre Jupiter y la tierra es de\",distancia_km, \"kilometros\")\n",
    "\n",
    "distancia_mi = distancia_km * 0.621\n",
    "print(\"La distancia entre Jupiter y la tierra es de\", distancia_mi, \"millas\")"
   ]
  },
  {
   "cell_type": "markdown",
   "metadata": {},
   "source": [
    "Convierte cadenas en números y usa valores absolutos"
   ]
  },
  {
   "cell_type": "code",
   "execution_count": 1,
   "metadata": {},
   "outputs": [
    {
     "name": "stdout",
     "output_type": "stream",
     "text": [
      "La distancia entre Neptuno y la tierra es de 4345500000 kilometros\n",
      "La distancia entre Neptuno y la tierra es de 2698555500.0 millas\n"
     ]
    }
   ],
   "source": [
    "#Se escriben las entradas para el usuario utilizando \"input\" Tierra\t149600000, Neptuno\t4495100000\n",
    "\n",
    "Tierra = input(\"Escribe la distancia entre la tierra y el sol\")\n",
    "Neptuno = input('Escribe la distancia entre Neptuno y el sol')\n",
    "\n",
    "Tierra = int(Tierra)\n",
    "Neptuno = int(Neptuno)\n",
    "\n",
    "distancia_km = Neptuno - Tierra\n",
    "print(\"La distancia entre Neptuno y la tierra es de\",distancia_km, \"kilometros\")\n",
    "\n",
    "#Ahora se hara lo mismo que en el pasado convirtiendolo en millas pero tambien se usará abs para crear un valor absoluto\n",
    "distancia_mi = distancia_km * 0.621\n",
    "print(\"La distancia entre Neptuno y la tierra es de\",(abs(distancia_mi)), \"millas\")"
   ]
  }
 ],
 "metadata": {
  "interpreter": {
   "hash": "3c33a349d2c34e703445e735e5c5224d1047b3ed0aa9b6b07b67b0f424811694"
  },
  "kernelspec": {
   "display_name": "Python 3.10.2 64-bit (windows store)",
   "language": "python",
   "name": "python3"
  },
  "language_info": {
   "codemirror_mode": {
    "name": "ipython",
    "version": 3
   },
   "file_extension": ".py",
   "mimetype": "text/x-python",
   "name": "python",
   "nbconvert_exporter": "python",
   "pygments_lexer": "ipython3",
   "version": "3.10.2"
  },
  "orig_nbformat": 4
 },
 "nbformat": 4,
 "nbformat_minor": 2
}
